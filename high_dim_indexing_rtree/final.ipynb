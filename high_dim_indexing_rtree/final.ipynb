{
 "cells": [
  {
   "cell_type": "code",
   "execution_count": 19,
   "metadata": {},
   "outputs": [],
   "source": [
    "import numpy as np\n",
    "import pandas as pd\n",
    "from tqdm import tqdm\n",
    "from PIL import Image, ImageTk\n",
    "from random import random\n",
    "import tkinter as tk\n",
    "from tkinter import filedialog\n",
    "import os\n",
    "\n",
    "from Model.rtree import index\n",
    "from image_viewer import ImageViewer"
   ]
  },
  {
   "cell_type": "code",
   "execution_count": 20,
   "metadata": {},
   "outputs": [
    {
     "name": "stdout",
     "output_type": "stream",
     "text": [
      "Dimension: 1000\n"
     ]
    }
   ],
   "source": [
    "# Constants\n",
    "IMAGES_DIR = 'Data/Images/'\n",
    "\n",
    "#load the data\n",
    "points = np.load('Data/features.npy')\n",
    "img_files = pd.read_csv('Data/mapping.csv')\n",
    "insert_count = 500\n",
    "dim = points.shape[2]   ##\n",
    "print(f'Dimension: {dim}')"
   ]
  },
  {
   "cell_type": "code",
   "execution_count": 21,
   "metadata": {},
   "outputs": [],
   "source": [
    "p = index.Property()\n",
    "p.dimension = dim\n",
    "\n",
    "\n",
    "# Create the rtree index for dim-dimensional data\n",
    "idx = index.Index(properties=p)"
   ]
  },
  {
   "cell_type": "code",
   "execution_count": 22,
   "metadata": {},
   "outputs": [
    {
     "name": "stderr",
     "output_type": "stream",
     "text": [
      "100%|██████████| 500/500 [00:19<00:00, 25.83it/s]\n"
     ]
    }
   ],
   "source": [
    "# Insert some points into the index\n",
    "for i in tqdm(range(insert_count)):\n",
    "    idx.insert(i, tuple(points[i][0]))"
   ]
  },
  {
   "cell_type": "code",
   "execution_count": 23,
   "metadata": {},
   "outputs": [],
   "source": [
    "match_count = 4\n",
    "def get_matched_images(query_vector):\n",
    "    nearest = list(idx.nearest(tuple(query_vector), match_count))\n",
    "    matched_imgs = []\n",
    "    for i in range(match_count):\n",
    "        matched_imgs.append(IMAGES_DIR+img_files.iloc[nearest[i]]['filename'])\n",
    "    return matched_imgs"
   ]
  },
  {
   "cell_type": "code",
   "execution_count": 24,
   "metadata": {},
   "outputs": [
    {
     "name": "stdout",
     "output_type": "stream",
     "text": [
      "Bye!\n"
     ]
    }
   ],
   "source": [
    "while True:\n",
    "    query_idx = int(input('Enter a image name: '))\n",
    "    if query_idx==-1: \n",
    "        print(\"Bye!\")\n",
    "        break\n",
    "    \n",
    "    query_img = IMAGES_DIR+img_files.iloc[query_idx]['filename']\n",
    "    query_vector = points[query_idx][0]\n",
    "    matched_imgs = get_matched_images(query_vector)\n",
    "    ImageViewer(query_img, matched_imgs)\n",
    "    \n",
    "    \n",
    "    "
   ]
  },
  {
   "cell_type": "code",
   "execution_count": 25,
   "metadata": {},
   "outputs": [],
   "source": [
    "\n",
    "import torch\n",
    "import torchvision.transforms as transforms\n",
    "import torchvision.models as models\n",
    "\n",
    "class FeatureExtractor():\n",
    "  def __init__(self):\n",
    "      resnet18 = models.resnet18(pretrained=True)\n",
    "      resnet18.eval()\n",
    "\n",
    "      transform = transforms.Compose([\n",
    "      transforms.ToPILImage(),\n",
    "      transforms.Resize(256),\n",
    "      transforms.CenterCrop(224),\n",
    "      transforms.ToTensor(),\n",
    "      transforms.Normalize(mean=[0.485, 0.456, 0.406], std=[0.229, 0.224, 0.225])\n",
    "      ])\n",
    "\n",
    "      self.resnet18 = resnet18\n",
    "      self.transform = transform\n",
    "\n",
    "  def extract_features(self,img):\n",
    "      '''\n",
    "      image --> (h,w,3) ndarray\n",
    "      '''\n",
    "      img_tensor = self.transform(img).unsqueeze(0)   \n",
    "      with torch.no_grad():\n",
    "          features = self.resnet18(img_tensor)\n",
    "      # print(features.shape)\n",
    "      feature_vector = features.flatten().numpy()\n",
    "\n",
    "      return feature_vector"
   ]
  },
  {
   "cell_type": "code",
   "execution_count": 26,
   "metadata": {},
   "outputs": [],
   "source": [
    "obj = FeatureExtractor()"
   ]
  },
  {
   "cell_type": "code",
   "execution_count": 29,
   "metadata": {},
   "outputs": [],
   "source": [
    "class ImageSelector:\n",
    "    def __init__(self, master):\n",
    "        print(\"ImageSelector init\")\n",
    "        self.master = master\n",
    "        self.master.title(\"Image search\")\n",
    "        self.master.geometry(\"500x900\")\n",
    "        \n",
    "        \n",
    "        # Create a button to select an image\n",
    "        self.select_button = tk.Button(self.master, text=\"Select Image\", command=self.select_image)\n",
    "        self.select_button.pack(pady=10)\n",
    "        \n",
    "    \n",
    "    def select_image(self):\n",
    "        # Open a file dialog to select an image\n",
    "        file_path = filedialog.askopenfilename()\n",
    "        \n",
    "        if file_path:\n",
    "            print(file_path)\n",
    "            # Destroy all labels before creating new ones\n",
    "            for widget in self.master.winfo_children():\n",
    "                if widget != self.select_button:\n",
    "                    widget.destroy()\n",
    "            \n",
    "            # Display the selected image\n",
    "            img = Image.open(file_path)\n",
    "            img.thumbnail((250, 250))\n",
    "            img_tk = ImageTk.PhotoImage(img)\n",
    "            \n",
    "            img_features = obj.extract_features(np.array(img))\n",
    "            \n",
    "            # Create a label to display the \"Query image\" heading\n",
    "            self.query_label = tk.Label(self.master, text=\"Query image\", font=(\"Helvetica\", 16))\n",
    "            self.query_label.pack()\n",
    "            \n",
    "            # Create a label to display the selected image\n",
    "            self.image_label = tk.Label(self.master)\n",
    "            self.image_label.configure(image=img_tk)\n",
    "            self.image_label.image = img_tk\n",
    "            self.image_label.pack(pady=10)\n",
    "            \n",
    "            # Create a label to display the \"Similar images\" heading\n",
    "            self.similar_images_label = tk.Label(self.master, text=\"Similar images\", font=(\"Helvetica\", 16))\n",
    "            self.similar_images_label.pack(pady=20)\n",
    "            \n",
    "            # Create a frame to hold similar images\n",
    "            self.similar_images_frame = tk.Frame(self.master)\n",
    "            self.similar_images_frame.pack()\n",
    "            \n",
    "            # Display similar images\n",
    "            similar_images = get_matched_images(img_features)\n",
    "            \n",
    "            for i in range(4):\n",
    "                img_path = similar_images[i]\n",
    "                img = Image.open(img_path)\n",
    "                img.thumbnail((250*4/5, 250*4/5))\n",
    "                img_tk = ImageTk.PhotoImage(img)\n",
    "                label = tk.Label(self.similar_images_frame, image=img_tk)\n",
    "                label.image = img_tk\n",
    "                label.grid(row=i//2, column=i%2, padx=10, pady=10)"
   ]
  },
  {
   "cell_type": "code",
   "execution_count": 30,
   "metadata": {},
   "outputs": [
    {
     "name": "stdout",
     "output_type": "stream",
     "text": [
      "ImageSelector init\n",
      "/home/gaurav/6th-Semester/DBMS Lab/Indexing-with-R-Tree/Data/Web Images/roopak.jpeg\n",
      "/home/gaurav/6th-Semester/DBMS Lab/Indexing-with-R-Tree/Data/Web Images/atishay.jpeg\n",
      "/home/gaurav/6th-Semester/DBMS Lab/Indexing-with-R-Tree/Data/Web Images/monish\n",
      "/home/gaurav/6th-Semester/DBMS Lab/Indexing-with-R-Tree/Data/Web Images/train.jpg\n"
     ]
    }
   ],
   "source": [
    "root = tk.Tk()\n",
    "app = ImageSelector(root)\n",
    "root.mainloop()"
   ]
  },
  {
   "attachments": {},
   "cell_type": "markdown",
   "metadata": {},
   "source": [
    "## Model"
   ]
  }
 ],
 "metadata": {
  "kernelspec": {
   "display_name": "Python 3",
   "language": "python",
   "name": "python3"
  },
  "language_info": {
   "codemirror_mode": {
    "name": "ipython",
    "version": 3
   },
   "file_extension": ".py",
   "mimetype": "text/x-python",
   "name": "python",
   "nbconvert_exporter": "python",
   "pygments_lexer": "ipython3",
   "version": "3.10.6"
  },
  "orig_nbformat": 4
 },
 "nbformat": 4,
 "nbformat_minor": 2
}
