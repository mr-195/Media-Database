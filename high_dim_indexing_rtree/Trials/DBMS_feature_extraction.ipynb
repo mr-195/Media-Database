{
  "nbformat": 4,
  "nbformat_minor": 0,
  "metadata": {
    "colab": {
      "provenance": []
    },
    "kernelspec": {
      "name": "python3",
      "display_name": "Python 3"
    },
    "language_info": {
      "name": "python"
    }
  },
  "cells": [
    {
      "cell_type": "code",
      "source": [
        "!gdown 1rcHcvEY6_W1Kla8DK4Qco0_TLKmiD2wN"
      ],
      "metadata": {
        "colab": {
          "base_uri": "https://localhost:8080/"
        },
        "id": "eQb3B0IKxpnP",
        "outputId": "fd5d0738-049c-469f-e36d-c4f3d4504e30"
      },
      "execution_count": 38,
      "outputs": [
        {
          "output_type": "stream",
          "name": "stdout",
          "text": [
            "Downloading...\n",
            "From: https://drive.google.com/uc?id=1rcHcvEY6_W1Kla8DK4Qco0_TLKmiD2wN\n",
            "To: /content/Unmasked_Train.zip\n",
            "100% 148M/148M [00:04<00:00, 32.0MB/s]\n"
          ]
        }
      ]
    },
    {
      "cell_type": "code",
      "source": [
        "!unzip /content/Unmasked_Train.zip"
      ],
      "metadata": {
        "id": "PxA3lh2cx1Si"
      },
      "execution_count": null,
      "outputs": []
    },
    {
      "cell_type": "code",
      "execution_count": null,
      "metadata": {
        "id": "h2ki25gSichB"
      },
      "outputs": [],
      "source": [
        "import numpy as np\n",
        "import torch\n",
        "import torchvision.transforms as transforms\n",
        "import torchvision.models as models\n",
        "from sklearn.decomposition import PCA\n",
        "\n",
        "resnet18 = models.resnet18(pretrained=True)\n",
        "resnet18.eval()"
      ]
    },
    {
      "cell_type": "code",
      "source": [
        "def initialize_feature_extractor():\n",
        "  resnet18 = models.resnet18(pretrained=True)\n",
        "  resnet18.eval()\n",
        "  return resnet18"
      ],
      "metadata": {
        "id": "tj0495eTApwa"
      },
      "execution_count": null,
      "outputs": []
    },
    {
      "cell_type": "code",
      "source": [
        "transform = transforms.Compose([\n",
        "    transforms.ToPILImage(),\n",
        "    transforms.Resize(256),\n",
        "    transforms.CenterCrop(224),\n",
        "    transforms.ToTensor(),\n",
        "    transforms.Normalize(mean=[0.485, 0.456, 0.406], std=[0.229, 0.224, 0.225])\n",
        "])"
      ],
      "metadata": {
        "id": "DzwhkvQdpffG"
      },
      "execution_count": 2,
      "outputs": []
    },
    {
      "cell_type": "code",
      "source": [
        "def extract_features(img):\n",
        "    img_tensor = transform(img).unsqueeze(0)\n",
        "    \n",
        "    with torch.no_grad():\n",
        "        features = resnet18(img_tensor)\n",
        "    \n",
        "    print(features.shape)\n",
        "    feature_vector = features.flatten().numpy()\n",
        "    return feature_vector"
      ],
      "metadata": {
        "id": "W2N1LsaOpdJX"
      },
      "execution_count": 5,
      "outputs": []
    },
    {
      "cell_type": "code",
      "source": [
        "import numpy as np\n",
        "from PIL import image\n",
        "import torch\n",
        "import torchvision.transforms as transforms\n",
        "import torchvision.models as models\n",
        "\n",
        "class FeatureExtractor():\n",
        "  def __init__():\n",
        "      resnet18 = models.resnet18(pretrained=True)\n",
        "      resnet18.eval()\n",
        "\n",
        "      transform = transforms.Compose([\n",
        "      transforms.ToPILImage(),\n",
        "      transforms.Resize(256),\n",
        "      transforms.CenterCrop(224),\n",
        "      transforms.ToTensor(),\n",
        "      transforms.Normalize(mean=[0.485, 0.456, 0.406], std=[0.229, 0.224, 0.225])\n",
        "      ])\n",
        "\n",
        "      self.resenet18 = resnet18\n",
        "      self.transform = transform\n",
        "\n",
        "  def extract_features(self,img):\n",
        "      '''\n",
        "      image --> (h,w,3) ndarray\n",
        "      '''\n",
        "      img_tensor = self.transform(img).unsqueeze(0)   \n",
        "      with torch.no_grad():\n",
        "          features = self.resnet18(img_tensor)\n",
        "      # print(features.shape)\n",
        "      feature_vector = features.flatten().numpy()\n",
        "\n",
        "      return feature_vector"
      ],
      "metadata": {
        "id": "bCdt1FgfA2YT"
      },
      "execution_count": null,
      "outputs": []
    },
    {
      "cell_type": "code",
      "source": [
        "from PIL import Image\n",
        "img = Image.open('/content/photo.jpg')"
      ],
      "metadata": {
        "id": "Av2weQo5n76J"
      },
      "execution_count": 4,
      "outputs": []
    },
    {
      "cell_type": "code",
      "source": [
        "import os\n",
        "names = os.listdir('/content/Unmasked_Train')"
      ],
      "metadata": {
        "id": "wgmcxl1L3tEj"
      },
      "execution_count": 42,
      "outputs": []
    },
    {
      "cell_type": "code",
      "source": [
        "import random\n",
        "random.shuffle(names)"
      ],
      "metadata": {
        "id": "meidfmVI37yi"
      },
      "execution_count": 43,
      "outputs": []
    },
    {
      "cell_type": "code",
      "source": [
        "indices = [i for i in range(len(names))]"
      ],
      "metadata": {
        "id": "XfWD9APT4NJK"
      },
      "execution_count": 45,
      "outputs": []
    },
    {
      "cell_type": "code",
      "source": [
        "import pandas as pd\n",
        "df = pd.DataFrame({'filename': names, 'index': indices})"
      ],
      "metadata": {
        "id": "EjQNkV2n4Xcz"
      },
      "execution_count": 46,
      "outputs": []
    },
    {
      "cell_type": "code",
      "source": [
        "df.head()"
      ],
      "metadata": {
        "colab": {
          "base_uri": "https://localhost:8080/",
          "height": 206
        },
        "id": "elPrS8xY4naK",
        "outputId": "9430dae7-17f2-45b3-9d7a-47fbad22e77a"
      },
      "execution_count": 47,
      "outputs": [
        {
          "output_type": "execute_result",
          "data": {
            "text/plain": [
              "                filename  index\n",
              "0     Cat-Train (28).jpg      0\n",
              "1  Cat-Train (1598).jpeg      1\n",
              "2   Cat-Train (965).jpeg      2\n",
              "3  Dog-Train (1417).jpeg      3\n",
              "4  Cat-Train (1410).jpeg      4"
            ],
            "text/html": [
              "\n",
              "  <div id=\"df-9a1946d7-8564-4de8-8e2d-fae5d91a04df\">\n",
              "    <div class=\"colab-df-container\">\n",
              "      <div>\n",
              "<style scoped>\n",
              "    .dataframe tbody tr th:only-of-type {\n",
              "        vertical-align: middle;\n",
              "    }\n",
              "\n",
              "    .dataframe tbody tr th {\n",
              "        vertical-align: top;\n",
              "    }\n",
              "\n",
              "    .dataframe thead th {\n",
              "        text-align: right;\n",
              "    }\n",
              "</style>\n",
              "<table border=\"1\" class=\"dataframe\">\n",
              "  <thead>\n",
              "    <tr style=\"text-align: right;\">\n",
              "      <th></th>\n",
              "      <th>filename</th>\n",
              "      <th>index</th>\n",
              "    </tr>\n",
              "  </thead>\n",
              "  <tbody>\n",
              "    <tr>\n",
              "      <th>0</th>\n",
              "      <td>Cat-Train (28).jpg</td>\n",
              "      <td>0</td>\n",
              "    </tr>\n",
              "    <tr>\n",
              "      <th>1</th>\n",
              "      <td>Cat-Train (1598).jpeg</td>\n",
              "      <td>1</td>\n",
              "    </tr>\n",
              "    <tr>\n",
              "      <th>2</th>\n",
              "      <td>Cat-Train (965).jpeg</td>\n",
              "      <td>2</td>\n",
              "    </tr>\n",
              "    <tr>\n",
              "      <th>3</th>\n",
              "      <td>Dog-Train (1417).jpeg</td>\n",
              "      <td>3</td>\n",
              "    </tr>\n",
              "    <tr>\n",
              "      <th>4</th>\n",
              "      <td>Cat-Train (1410).jpeg</td>\n",
              "      <td>4</td>\n",
              "    </tr>\n",
              "  </tbody>\n",
              "</table>\n",
              "</div>\n",
              "      <button class=\"colab-df-convert\" onclick=\"convertToInteractive('df-9a1946d7-8564-4de8-8e2d-fae5d91a04df')\"\n",
              "              title=\"Convert this dataframe to an interactive table.\"\n",
              "              style=\"display:none;\">\n",
              "        \n",
              "  <svg xmlns=\"http://www.w3.org/2000/svg\" height=\"24px\"viewBox=\"0 0 24 24\"\n",
              "       width=\"24px\">\n",
              "    <path d=\"M0 0h24v24H0V0z\" fill=\"none\"/>\n",
              "    <path d=\"M18.56 5.44l.94 2.06.94-2.06 2.06-.94-2.06-.94-.94-2.06-.94 2.06-2.06.94zm-11 1L8.5 8.5l.94-2.06 2.06-.94-2.06-.94L8.5 2.5l-.94 2.06-2.06.94zm10 10l.94 2.06.94-2.06 2.06-.94-2.06-.94-.94-2.06-.94 2.06-2.06.94z\"/><path d=\"M17.41 7.96l-1.37-1.37c-.4-.4-.92-.59-1.43-.59-.52 0-1.04.2-1.43.59L10.3 9.45l-7.72 7.72c-.78.78-.78 2.05 0 2.83L4 21.41c.39.39.9.59 1.41.59.51 0 1.02-.2 1.41-.59l7.78-7.78 2.81-2.81c.8-.78.8-2.07 0-2.86zM5.41 20L4 18.59l7.72-7.72 1.47 1.35L5.41 20z\"/>\n",
              "  </svg>\n",
              "      </button>\n",
              "      \n",
              "  <style>\n",
              "    .colab-df-container {\n",
              "      display:flex;\n",
              "      flex-wrap:wrap;\n",
              "      gap: 12px;\n",
              "    }\n",
              "\n",
              "    .colab-df-convert {\n",
              "      background-color: #E8F0FE;\n",
              "      border: none;\n",
              "      border-radius: 50%;\n",
              "      cursor: pointer;\n",
              "      display: none;\n",
              "      fill: #1967D2;\n",
              "      height: 32px;\n",
              "      padding: 0 0 0 0;\n",
              "      width: 32px;\n",
              "    }\n",
              "\n",
              "    .colab-df-convert:hover {\n",
              "      background-color: #E2EBFA;\n",
              "      box-shadow: 0px 1px 2px rgba(60, 64, 67, 0.3), 0px 1px 3px 1px rgba(60, 64, 67, 0.15);\n",
              "      fill: #174EA6;\n",
              "    }\n",
              "\n",
              "    [theme=dark] .colab-df-convert {\n",
              "      background-color: #3B4455;\n",
              "      fill: #D2E3FC;\n",
              "    }\n",
              "\n",
              "    [theme=dark] .colab-df-convert:hover {\n",
              "      background-color: #434B5C;\n",
              "      box-shadow: 0px 1px 3px 1px rgba(0, 0, 0, 0.15);\n",
              "      filter: drop-shadow(0px 1px 2px rgba(0, 0, 0, 0.3));\n",
              "      fill: #FFFFFF;\n",
              "    }\n",
              "  </style>\n",
              "\n",
              "      <script>\n",
              "        const buttonEl =\n",
              "          document.querySelector('#df-9a1946d7-8564-4de8-8e2d-fae5d91a04df button.colab-df-convert');\n",
              "        buttonEl.style.display =\n",
              "          google.colab.kernel.accessAllowed ? 'block' : 'none';\n",
              "\n",
              "        async function convertToInteractive(key) {\n",
              "          const element = document.querySelector('#df-9a1946d7-8564-4de8-8e2d-fae5d91a04df');\n",
              "          const dataTable =\n",
              "            await google.colab.kernel.invokeFunction('convertToInteractive',\n",
              "                                                     [key], {});\n",
              "          if (!dataTable) return;\n",
              "\n",
              "          const docLinkHtml = 'Like what you see? Visit the ' +\n",
              "            '<a target=\"_blank\" href=https://colab.research.google.com/notebooks/data_table.ipynb>data table notebook</a>'\n",
              "            + ' to learn more about interactive tables.';\n",
              "          element.innerHTML = '';\n",
              "          dataTable['output_type'] = 'display_data';\n",
              "          await google.colab.output.renderOutput(dataTable, element);\n",
              "          const docLink = document.createElement('div');\n",
              "          docLink.innerHTML = docLinkHtml;\n",
              "          element.appendChild(docLink);\n",
              "        }\n",
              "      </script>\n",
              "    </div>\n",
              "  </div>\n",
              "  "
            ]
          },
          "metadata": {},
          "execution_count": 47
        }
      ]
    },
    {
      "cell_type": "markdown",
      "source": [
        "# Feature Extraction"
      ],
      "metadata": {
        "id": "7BX4Fv2b4783"
      }
    },
    {
      "cell_type": "code",
      "source": [
        "features = np.zeros((len(names),1,1000))"
      ],
      "metadata": {
        "id": "fyZgGeYW5Aes"
      },
      "execution_count": 49,
      "outputs": []
    },
    {
      "cell_type": "code",
      "source": [
        "from tqdm import tqdm"
      ],
      "metadata": {
        "id": "F9RDXtGm52EW"
      },
      "execution_count": 54,
      "outputs": []
    },
    {
      "cell_type": "code",
      "source": [
        "for id in tqdm(indices):\n",
        "  img = Image.open(os.path.join('/content/Unmasked_Train',df['filename'][id]))\n",
        "  img_np = np.array(img)\n",
        "  features[id][:] = extract_features(img_np)"
      ],
      "metadata": {
        "colab": {
          "base_uri": "https://localhost:8080/"
        },
        "id": "WB1hGrlD4qUw",
        "outputId": "24b84dff-2336-44b5-ee7b-e9e13aa81cba"
      },
      "execution_count": 55,
      "outputs": [
        {
          "output_type": "stream",
          "name": "stderr",
          "text": [
            "100%|██████████| 7000/7000 [07:35<00:00, 15.38it/s]\n"
          ]
        }
      ]
    },
    {
      "cell_type": "code",
      "source": [
        "np.save('features.npy',features)"
      ],
      "metadata": {
        "id": "iJDHqShg56Vh"
      },
      "execution_count": 58,
      "outputs": []
    },
    {
      "cell_type": "code",
      "source": [
        "df.to_csv('mapping.csv')"
      ],
      "metadata": {
        "id": "90Y2_Dpn5z1T"
      },
      "execution_count": 59,
      "outputs": []
    },
    {
      "cell_type": "code",
      "source": [
        "!mv /content/features.npy /content/drive/MyDrive/DBMS"
      ],
      "metadata": {
        "id": "65ojpJwA6EPj"
      },
      "execution_count": 60,
      "outputs": []
    },
    {
      "cell_type": "code",
      "source": [
        "!mv /content/mapping.csv /content/drive/MyDrive/DBMS"
      ],
      "metadata": {
        "id": "hDDdXzvE8KA2"
      },
      "execution_count": 61,
      "outputs": []
    },
    {
      "cell_type": "code",
      "source": [
        "features[:10].shape"
      ],
      "metadata": {
        "colab": {
          "base_uri": "https://localhost:8080/"
        },
        "id": "CiV5_afO8OrV",
        "outputId": "d351914d-4be2-4880-90c8-028c901a893b"
      },
      "execution_count": 63,
      "outputs": [
        {
          "output_type": "execute_result",
          "data": {
            "text/plain": [
              "(10, 1, 1000)"
            ]
          },
          "metadata": {},
          "execution_count": 63
        }
      ]
    }
  ]
}